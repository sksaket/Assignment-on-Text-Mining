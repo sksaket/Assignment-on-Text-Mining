{
  "nbformat": 4,
  "nbformat_minor": 0,
  "metadata": {
    "colab": {
      "name": "Text-Mining-Assignment.ipynb",
      "provenance": [],
      "authorship_tag": "ABX9TyMBkBz0Ffywxf3LCr2ECl49",
      "include_colab_link": true
    },
    "kernelspec": {
      "name": "python3",
      "display_name": "Python 3"
    },
    "language_info": {
      "name": "python"
    }
  },
  "cells": [
    {
      "cell_type": "markdown",
      "metadata": {
        "id": "view-in-github",
        "colab_type": "text"
      },
      "source": [
        "<a href=\"https://colab.research.google.com/github/sksaket/Assignment-on-Text-Mining/blob/main/Text_Mining_Assignment.ipynb\" target=\"_parent\"><img src=\"https://colab.research.google.com/assets/colab-badge.svg\" alt=\"Open In Colab\"/></a>"
      ]
    },
    {
      "cell_type": "code",
      "metadata": {
        "id": "D9Og9TM-GfP0"
      },
      "source": [
        "import numpy as np # linear algebra\n",
        "import pandas as pd # data processing, CSV file I/O (e.g. pd.read_csv)\n",
        "import string # special operations on strings\n",
        "import spacy # language models\n",
        "\n",
        "from matplotlib.pyplot import imread\n",
        "from matplotlib import pyplot as plt\n",
        "from wordcloud import WordCloud\n",
        "%matplotlib inline"
      ],
      "execution_count": 19,
      "outputs": []
    },
    {
      "cell_type": "code",
      "metadata": {
        "id": "tx-h_qw1GjKi"
      },
      "source": [
        "#Read the file\n",
        "import pandas\n",
        "data=pd.read_csv(\"/content/Elon_musk.csv\",encoding=\"latin-1\",error_bad_lines=False)"
      ],
      "execution_count": 20,
      "outputs": []
    },
    {
      "cell_type": "code",
      "metadata": {
        "colab": {
          "base_uri": "https://localhost:8080/",
          "height": 417
        },
        "id": "yOVtNobLGjTo",
        "outputId": "c3cedee9-6d58-4ea7-cf55-6bdfeb57681a"
      },
      "source": [
        "data"
      ],
      "execution_count": 21,
      "outputs": [
        {
          "output_type": "execute_result",
          "data": {
            "text/html": [
              "<div>\n",
              "<style scoped>\n",
              "    .dataframe tbody tr th:only-of-type {\n",
              "        vertical-align: middle;\n",
              "    }\n",
              "\n",
              "    .dataframe tbody tr th {\n",
              "        vertical-align: top;\n",
              "    }\n",
              "\n",
              "    .dataframe thead th {\n",
              "        text-align: right;\n",
              "    }\n",
              "</style>\n",
              "<table border=\"1\" class=\"dataframe\">\n",
              "  <thead>\n",
              "    <tr style=\"text-align: right;\">\n",
              "      <th></th>\n",
              "      <th>Unnamed: 0</th>\n",
              "      <th>Text</th>\n",
              "    </tr>\n",
              "  </thead>\n",
              "  <tbody>\n",
              "    <tr>\n",
              "      <th>0</th>\n",
              "      <td>1</td>\n",
              "      <td>@kunalb11 Im an alien</td>\n",
              "    </tr>\n",
              "    <tr>\n",
              "      <th>1</th>\n",
              "      <td>2</td>\n",
              "      <td>@ID_AA_Carmack Ray tracing on Cyberpunk with H...</td>\n",
              "    </tr>\n",
              "    <tr>\n",
              "      <th>2</th>\n",
              "      <td>3</td>\n",
              "      <td>@joerogan @Spotify Great interview!</td>\n",
              "    </tr>\n",
              "    <tr>\n",
              "      <th>3</th>\n",
              "      <td>4</td>\n",
              "      <td>@gtera27 Doge is underestimated</td>\n",
              "    </tr>\n",
              "    <tr>\n",
              "      <th>4</th>\n",
              "      <td>5</td>\n",
              "      <td>@teslacn Congratulations Tesla China for amazi...</td>\n",
              "    </tr>\n",
              "    <tr>\n",
              "      <th>...</th>\n",
              "      <td>...</td>\n",
              "      <td>...</td>\n",
              "    </tr>\n",
              "    <tr>\n",
              "      <th>1994</th>\n",
              "      <td>1995</td>\n",
              "      <td>@flcnhvy True, it sounds so surreal, but the n...</td>\n",
              "    </tr>\n",
              "    <tr>\n",
              "      <th>1995</th>\n",
              "      <td>1996</td>\n",
              "      <td>@PPathole Make sure to read ur terms &amp;amp; con...</td>\n",
              "    </tr>\n",
              "    <tr>\n",
              "      <th>1996</th>\n",
              "      <td>1997</td>\n",
              "      <td>@TeslaGong @PPathole Samwise Gamgee</td>\n",
              "    </tr>\n",
              "    <tr>\n",
              "      <th>1997</th>\n",
              "      <td>1998</td>\n",
              "      <td>@PPathole Altho Dumb and Dumber is &lt;U+0001F525...</td>\n",
              "    </tr>\n",
              "    <tr>\n",
              "      <th>1998</th>\n",
              "      <td>1999</td>\n",
              "      <td>Progress update August 28</td>\n",
              "    </tr>\n",
              "  </tbody>\n",
              "</table>\n",
              "<p>1999 rows × 2 columns</p>\n",
              "</div>"
            ],
            "text/plain": [
              "      Unnamed: 0                                               Text\n",
              "0              1                             @kunalb11 Im an alien\n",
              "1              2  @ID_AA_Carmack Ray tracing on Cyberpunk with H...\n",
              "2              3                @joerogan @Spotify Great interview!\n",
              "3              4                    @gtera27 Doge is underestimated\n",
              "4              5  @teslacn Congratulations Tesla China for amazi...\n",
              "...          ...                                                ...\n",
              "1994        1995  @flcnhvy True, it sounds so surreal, but the n...\n",
              "1995        1996  @PPathole Make sure to read ur terms &amp; con...\n",
              "1996        1997                @TeslaGong @PPathole Samwise Gamgee\n",
              "1997        1998  @PPathole Altho Dumb and Dumber is <U+0001F525...\n",
              "1998        1999                          Progress update August 28\n",
              "\n",
              "[1999 rows x 2 columns]"
            ]
          },
          "metadata": {},
          "execution_count": 21
        }
      ]
    },
    {
      "cell_type": "code",
      "metadata": {
        "colab": {
          "base_uri": "https://localhost:8080/"
        },
        "id": "QVhqVjh7GjV4",
        "outputId": "0c86fd16-6d21-468a-843c-9e0998bef2b8"
      },
      "source": [
        "#Sentiment analysis\n",
        "afinn = pd.read_csv('/content/Afinn.csv', sep=',', encoding='latin-1')\n",
        "afinn.shape"
      ],
      "execution_count": 22,
      "outputs": [
        {
          "output_type": "execute_result",
          "data": {
            "text/plain": [
              "(2477, 2)"
            ]
          },
          "metadata": {},
          "execution_count": 22
        }
      ]
    },
    {
      "cell_type": "code",
      "metadata": {
        "colab": {
          "base_uri": "https://localhost:8080/",
          "height": 203
        },
        "id": "pIbdeQO5GjYS",
        "outputId": "f3b83747-b80d-44e4-ace7-4f0577f840bf"
      },
      "source": [
        "afinn.head()"
      ],
      "execution_count": 23,
      "outputs": [
        {
          "output_type": "execute_result",
          "data": {
            "text/html": [
              "<div>\n",
              "<style scoped>\n",
              "    .dataframe tbody tr th:only-of-type {\n",
              "        vertical-align: middle;\n",
              "    }\n",
              "\n",
              "    .dataframe tbody tr th {\n",
              "        vertical-align: top;\n",
              "    }\n",
              "\n",
              "    .dataframe thead th {\n",
              "        text-align: right;\n",
              "    }\n",
              "</style>\n",
              "<table border=\"1\" class=\"dataframe\">\n",
              "  <thead>\n",
              "    <tr style=\"text-align: right;\">\n",
              "      <th></th>\n",
              "      <th>word</th>\n",
              "      <th>value</th>\n",
              "    </tr>\n",
              "  </thead>\n",
              "  <tbody>\n",
              "    <tr>\n",
              "      <th>0</th>\n",
              "      <td>abandon</td>\n",
              "      <td>-2</td>\n",
              "    </tr>\n",
              "    <tr>\n",
              "      <th>1</th>\n",
              "      <td>abandoned</td>\n",
              "      <td>-2</td>\n",
              "    </tr>\n",
              "    <tr>\n",
              "      <th>2</th>\n",
              "      <td>abandons</td>\n",
              "      <td>-2</td>\n",
              "    </tr>\n",
              "    <tr>\n",
              "      <th>3</th>\n",
              "      <td>abducted</td>\n",
              "      <td>-2</td>\n",
              "    </tr>\n",
              "    <tr>\n",
              "      <th>4</th>\n",
              "      <td>abduction</td>\n",
              "      <td>-2</td>\n",
              "    </tr>\n",
              "  </tbody>\n",
              "</table>\n",
              "</div>"
            ],
            "text/plain": [
              "        word  value\n",
              "0    abandon     -2\n",
              "1  abandoned     -2\n",
              "2   abandons     -2\n",
              "3   abducted     -2\n",
              "4  abduction     -2"
            ]
          },
          "metadata": {},
          "execution_count": 23
        }
      ]
    },
    {
      "cell_type": "code",
      "metadata": {
        "id": "9qcvFxZsGjbI"
      },
      "source": [
        "data = [Text.strip() for Text in data.Text] # remove both the leading and the trailing characters\n",
        "data = [Text for Text in data if Text]"
      ],
      "execution_count": 24,
      "outputs": []
    },
    {
      "cell_type": "code",
      "metadata": {
        "colab": {
          "base_uri": "https://localhost:8080/"
        },
        "id": "x0BVuwOtGjcy",
        "outputId": "e0850c1e-5d8b-4d73-dd31-3c6c80b5bef1"
      },
      "source": [
        "#tokenizing\n",
        "import nltk\n",
        "nltk.download('punkt')\n",
        "from nltk import tokenize\n",
        "sentences = tokenize.sent_tokenize(\" \".join(data))\n",
        "sentences[0:15]"
      ],
      "execution_count": 25,
      "outputs": [
        {
          "output_type": "stream",
          "name": "stdout",
          "text": [
            "[nltk_data] Downloading package punkt to /root/nltk_data...\n",
            "[nltk_data]   Package punkt is already up-to-date!\n"
          ]
        },
        {
          "output_type": "execute_result",
          "data": {
            "text/plain": [
              "['@kunalb11 I\\x92m an alien @ID_AA_Carmack Ray tracing on Cyberpunk with HDR is next-level.',\n",
              " 'Have you tried it?',\n",
              " '@joerogan @Spotify Great interview!',\n",
              " '@gtera27 Doge is underestimated @teslacn Congratulations Tesla China for amazing execution last year.',\n",
              " 'Now on to the next for even more!!',\n",
              " 'Happy New Year of the Ox!',\n",
              " 'https://t.co/9WFKMYu2oj Frodo was the underdoge,\\nAll thought he would fail,\\nHimself most of all.',\n",
              " 'https://t.co/zGxJFDzzrM @OwenSparks_ @flcnhvy @anonyx10 Haha thanks :) @flcnhvy @anonyx10 Indeed!',\n",
              " 'Tweets definitely do not represent real-world time allocation.',\n",
              " 'The most entertaining outcome is the most likely @GiveDirectly Just sent some Just agree to do Clubhouse with @kanyewest https://t.co/3rWE9uHSTS @geoffkeighley @UnrealEngine It\\x92s getting real Bought some Dogecoin for lil X, so he can be a toddler hodler @JoshManMode He definitely has issues, but the sentencing seems a bit high @freewalletorg Thanks for fixing @freewalletorg Please unlock my account @AstroJordy <U+0001F923><U+0001F923> This is true power haha https://t.co/Fc9uhQSd7O @freewalletorg Any crypto wallet that won\\x92t give you your private keys should be avoided at all costs @freewalletorg Your app sucks RT @SpaceX: NASA has selected Falcon Heavy to launch the first two elements of the lunar Gateway together on one mission!',\n",
              " 'https://t.co/3pWt @ajtourville Yes @BLKMDL3 @RationalEtienne @Adamklotz_ Once we can predict cash flow reasonably well, Starlink will IPO @RationalEtienne @Adamklotz_ Starlink is a staggeringly difficult technical &amp; economic endeavor.',\n",
              " 'However, if we don\\x85 https://t.co/9Z8Ac6skqx @RationalEtienne @Adamklotz_ SpaceX needs to pass through a deep chasm of negative cash flow over the next year or\\x85 https://t.co/7J1c92hdjl @ID_AA_Carmack Lowest cost per ton of carbon sequestered, net of value of any product made.',\n",
              " 'Must be scalable to g\\x85 https://t.co/XMyI7qWSgw @Adamklotz_ It\\x92s meant to be the same price in all countries.',\n",
              " 'Only difference should be taxes &amp; shipping.',\n",
              " '@tobyliiiiiiiiii This is intended for Earth, but there may be some ideas that apply to Mars too @CryptoShrikar @CoinDesk @Tesla @Dan_Z_Palmer <U+0001F923><U+0001F923> XPrize team will manage the $100M carbon capture prize https://t.co/fSw5IanL0r @SRuhle Everyone at Tesla receives stock.']"
            ]
          },
          "metadata": {},
          "execution_count": 25
        }
      ]
    },
    {
      "cell_type": "code",
      "metadata": {
        "colab": {
          "base_uri": "https://localhost:8080/",
          "height": 417
        },
        "id": "nqAA5hAAGjeh",
        "outputId": "c7865f81-d0cd-447d-fb98-4f3dab165794"
      },
      "source": [
        "sent_df = pd.DataFrame(sentences, columns=['sentence'])\n",
        "sent_df"
      ],
      "execution_count": 26,
      "outputs": [
        {
          "output_type": "execute_result",
          "data": {
            "text/html": [
              "<div>\n",
              "<style scoped>\n",
              "    .dataframe tbody tr th:only-of-type {\n",
              "        vertical-align: middle;\n",
              "    }\n",
              "\n",
              "    .dataframe tbody tr th {\n",
              "        vertical-align: top;\n",
              "    }\n",
              "\n",
              "    .dataframe thead th {\n",
              "        text-align: right;\n",
              "    }\n",
              "</style>\n",
              "<table border=\"1\" class=\"dataframe\">\n",
              "  <thead>\n",
              "    <tr style=\"text-align: right;\">\n",
              "      <th></th>\n",
              "      <th>sentence</th>\n",
              "    </tr>\n",
              "  </thead>\n",
              "  <tbody>\n",
              "    <tr>\n",
              "      <th>0</th>\n",
              "      <td>@kunalb11 Im an alien @ID_AA_Carmack Ray trac...</td>\n",
              "    </tr>\n",
              "    <tr>\n",
              "      <th>1</th>\n",
              "      <td>Have you tried it?</td>\n",
              "    </tr>\n",
              "    <tr>\n",
              "      <th>2</th>\n",
              "      <td>@joerogan @Spotify Great interview!</td>\n",
              "    </tr>\n",
              "    <tr>\n",
              "      <th>3</th>\n",
              "      <td>@gtera27 Doge is underestimated @teslacn Congr...</td>\n",
              "    </tr>\n",
              "    <tr>\n",
              "      <th>4</th>\n",
              "      <td>Now on to the next for even more!!</td>\n",
              "    </tr>\n",
              "    <tr>\n",
              "      <th>...</th>\n",
              "      <td>...</td>\n",
              "    </tr>\n",
              "    <tr>\n",
              "      <th>919</th>\n",
              "      <td>@kenyanwalstreet Not actually a payout, just a...</td>\n",
              "    </tr>\n",
              "    <tr>\n",
              "      <th>920</th>\n",
              "      <td>It may never pay out, as the stock cant b ht...</td>\n",
              "    </tr>\n",
              "    <tr>\n",
              "      <th>921</th>\n",
              "      <td>Details Aug 28.</td>\n",
              "    </tr>\n",
              "    <tr>\n",
              "      <th>922</th>\n",
              "      <td>AI symbiosis while u wait @vistacruiser7 @flcn...</td>\n",
              "    </tr>\n",
              "    <tr>\n",
              "      <th>923</th>\n",
              "      <td>@TeslaGong @PPathole Samwise Gamgee @PPathole ...</td>\n",
              "    </tr>\n",
              "  </tbody>\n",
              "</table>\n",
              "<p>924 rows × 1 columns</p>\n",
              "</div>"
            ],
            "text/plain": [
              "                                              sentence\n",
              "0    @kunalb11 Im an alien @ID_AA_Carmack Ray trac...\n",
              "1                                   Have you tried it?\n",
              "2                  @joerogan @Spotify Great interview!\n",
              "3    @gtera27 Doge is underestimated @teslacn Congr...\n",
              "4                   Now on to the next for even more!!\n",
              "..                                                 ...\n",
              "919  @kenyanwalstreet Not actually a payout, just a...\n",
              "920  It may never pay out, as the stock cant b\n",
              " ht...\n",
              "921                                    Details Aug 28.\n",
              "922  AI symbiosis while u wait @vistacruiser7 @flcn...\n",
              "923  @TeslaGong @PPathole Samwise Gamgee @PPathole ...\n",
              "\n",
              "[924 rows x 1 columns]"
            ]
          },
          "metadata": {},
          "execution_count": 26
        }
      ]
    },
    {
      "cell_type": "code",
      "metadata": {
        "colab": {
          "base_uri": "https://localhost:8080/"
        },
        "id": "O8-RVB7xGjg0",
        "outputId": "f3bf00b8-70a1-472a-a7bf-88fd387d3b9c"
      },
      "source": [
        "#frequency of words\n",
        "freq1 = pd.Series(' '.join(sent_df['sentence']).split()).value_counts()[:50] # for top 20\n",
        "freq1"
      ],
      "execution_count": 27,
      "outputs": [
        {
          "output_type": "execute_result",
          "data": {
            "text/plain": [
              "the                 405\n",
              "to                  394\n",
              "is                  353\n",
              "a                   331\n",
              "of                  307\n",
              "&amp;               218\n",
              "in                  209\n",
              "for                 180\n",
              "be                  155\n",
              "@SpaceX             140\n",
              "@Erdayastronaut     140\n",
              "will                137\n",
              "RT                  127\n",
              "on                  125\n",
              "@PPathole           123\n",
              "I                   115\n",
              "@flcnhvy            114\n",
              "but                 111\n",
              "that                104\n",
              "with                101\n",
              "are                  95\n",
              "it                   90\n",
              "at                   87\n",
              "Tesla                85\n",
              "The                  80\n",
              "we                   77\n",
              "this                 72\n",
              "and                  72\n",
              "@SpaceX:             71\n",
              "from                 70\n",
              "was                  69\n",
              "have                 69\n",
              "@WholeMarsBlog       68\n",
              "as                   65\n",
              "@Tesla               64\n",
              "@teslaownersSV       62\n",
              "This                 61\n",
              "you                  59\n",
              "We                   58\n",
              "@Teslarati           56\n",
              "has                  55\n",
              "not                  54\n",
              "@NASASpaceflight     54\n",
              "Yes                  50\n",
              "so                   49\n",
              "more                 48\n",
              "just                 47\n",
              "than                 44\n",
              "should               43\n",
              "all                  40\n",
              "dtype: int64"
            ]
          },
          "metadata": {},
          "execution_count": 27
        }
      ]
    },
    {
      "cell_type": "code",
      "metadata": {
        "colab": {
          "base_uri": "https://localhost:8080/"
        },
        "id": "kNepU1CgGjiv",
        "outputId": "72f1b028-306c-4dbd-8e72-68e5cd087bcb"
      },
      "source": [
        "import nltk\n",
        "from nltk.corpus import stopwords\n",
        "nltk.download('punkt')\n",
        "nltk.download('stopwords')"
      ],
      "execution_count": 28,
      "outputs": [
        {
          "output_type": "stream",
          "name": "stdout",
          "text": [
            "[nltk_data] Downloading package punkt to /root/nltk_data...\n",
            "[nltk_data]   Package punkt is already up-to-date!\n",
            "[nltk_data] Downloading package stopwords to /root/nltk_data...\n",
            "[nltk_data]   Unzipping corpora/stopwords.zip.\n"
          ]
        },
        {
          "output_type": "execute_result",
          "data": {
            "text/plain": [
              "True"
            ]
          },
          "metadata": {},
          "execution_count": 28
        }
      ]
    },
    {
      "cell_type": "code",
      "metadata": {
        "colab": {
          "base_uri": "https://localhost:8080/"
        },
        "id": "Hye8opEfGjkm",
        "outputId": "86daf356-8c81-4c47-8649-90d52b4d7bf5"
      },
      "source": [
        "my_stopwords = stopwords.words('english')\n",
        "my_stopwords[0:10]"
      ],
      "execution_count": 29,
      "outputs": [
        {
          "output_type": "execute_result",
          "data": {
            "text/plain": [
              "['i', 'me', 'my', 'myself', 'we', 'our', 'ours', 'ourselves', 'you', \"you're\"]"
            ]
          },
          "metadata": {},
          "execution_count": 29
        }
      ]
    },
    {
      "cell_type": "code",
      "metadata": {
        "id": "BF6HrzzlGjnN"
      },
      "source": [
        "#removing stopwords\n",
        "sent_df['sentence1'] = sent_df['sentence'].apply(lambda x: ' '.join([x for x in x.split() if x not in (my_stopwords)]))"
      ],
      "execution_count": 30,
      "outputs": []
    },
    {
      "cell_type": "code",
      "metadata": {
        "id": "81zGv_I1Gjqd"
      },
      "source": [
        "#removing punctuations\n",
        "sent_df['clean'] = sent_df['sentence1'].apply(lambda x: ' '.join([x for x in x.split() if x not in string.punctuation]))"
      ],
      "execution_count": 31,
      "outputs": []
    },
    {
      "cell_type": "code",
      "metadata": {
        "colab": {
          "base_uri": "https://localhost:8080/",
          "height": 434
        },
        "id": "F4ScLpkMGjs7",
        "outputId": "22a06037-6b09-42e9-d8a0-4ec5ad48ffca"
      },
      "source": [
        "sent_df"
      ],
      "execution_count": 32,
      "outputs": [
        {
          "output_type": "execute_result",
          "data": {
            "text/html": [
              "<div>\n",
              "<style scoped>\n",
              "    .dataframe tbody tr th:only-of-type {\n",
              "        vertical-align: middle;\n",
              "    }\n",
              "\n",
              "    .dataframe tbody tr th {\n",
              "        vertical-align: top;\n",
              "    }\n",
              "\n",
              "    .dataframe thead th {\n",
              "        text-align: right;\n",
              "    }\n",
              "</style>\n",
              "<table border=\"1\" class=\"dataframe\">\n",
              "  <thead>\n",
              "    <tr style=\"text-align: right;\">\n",
              "      <th></th>\n",
              "      <th>sentence</th>\n",
              "      <th>sentence1</th>\n",
              "      <th>clean</th>\n",
              "    </tr>\n",
              "  </thead>\n",
              "  <tbody>\n",
              "    <tr>\n",
              "      <th>0</th>\n",
              "      <td>@kunalb11 Im an alien @ID_AA_Carmack Ray trac...</td>\n",
              "      <td>@kunalb11 Im alien @ID_AA_Carmack Ray tracing...</td>\n",
              "      <td>@kunalb11 Im alien @ID_AA_Carmack Ray tracing...</td>\n",
              "    </tr>\n",
              "    <tr>\n",
              "      <th>1</th>\n",
              "      <td>Have you tried it?</td>\n",
              "      <td>Have tried it?</td>\n",
              "      <td>Have tried it?</td>\n",
              "    </tr>\n",
              "    <tr>\n",
              "      <th>2</th>\n",
              "      <td>@joerogan @Spotify Great interview!</td>\n",
              "      <td>@joerogan @Spotify Great interview!</td>\n",
              "      <td>@joerogan @Spotify Great interview!</td>\n",
              "    </tr>\n",
              "    <tr>\n",
              "      <th>3</th>\n",
              "      <td>@gtera27 Doge is underestimated @teslacn Congr...</td>\n",
              "      <td>@gtera27 Doge underestimated @teslacn Congratu...</td>\n",
              "      <td>@gtera27 Doge underestimated @teslacn Congratu...</td>\n",
              "    </tr>\n",
              "    <tr>\n",
              "      <th>4</th>\n",
              "      <td>Now on to the next for even more!!</td>\n",
              "      <td>Now next even more!!</td>\n",
              "      <td>Now next even more!!</td>\n",
              "    </tr>\n",
              "    <tr>\n",
              "      <th>...</th>\n",
              "      <td>...</td>\n",
              "      <td>...</td>\n",
              "      <td>...</td>\n",
              "    </tr>\n",
              "    <tr>\n",
              "      <th>919</th>\n",
              "      <td>@kenyanwalstreet Not actually a payout, just a...</td>\n",
              "      <td>@kenyanwalstreet Not actually payout, vesting ...</td>\n",
              "      <td>@kenyanwalstreet Not actually payout, vesting ...</td>\n",
              "    </tr>\n",
              "    <tr>\n",
              "      <th>920</th>\n",
              "      <td>It may never pay out, as the stock cant b ht...</td>\n",
              "      <td>It may never pay out, stock cant b https://t....</td>\n",
              "      <td>It may never pay out, stock cant b https://t....</td>\n",
              "    </tr>\n",
              "    <tr>\n",
              "      <th>921</th>\n",
              "      <td>Details Aug 28.</td>\n",
              "      <td>Details Aug 28.</td>\n",
              "      <td>Details Aug 28.</td>\n",
              "    </tr>\n",
              "    <tr>\n",
              "      <th>922</th>\n",
              "      <td>AI symbiosis while u wait @vistacruiser7 @flcn...</td>\n",
              "      <td>AI symbiosis u wait @vistacruiser7 @flcnhvy Th...</td>\n",
              "      <td>AI symbiosis u wait @vistacruiser7 @flcnhvy Th...</td>\n",
              "    </tr>\n",
              "    <tr>\n",
              "      <th>923</th>\n",
              "      <td>@TeslaGong @PPathole Samwise Gamgee @PPathole ...</td>\n",
              "      <td>@TeslaGong @PPathole Samwise Gamgee @PPathole ...</td>\n",
              "      <td>@TeslaGong @PPathole Samwise Gamgee @PPathole ...</td>\n",
              "    </tr>\n",
              "  </tbody>\n",
              "</table>\n",
              "<p>924 rows × 3 columns</p>\n",
              "</div>"
            ],
            "text/plain": [
              "                                              sentence  ...                                              clean\n",
              "0    @kunalb11 Im an alien @ID_AA_Carmack Ray trac...  ...  @kunalb11 Im alien @ID_AA_Carmack Ray tracing...\n",
              "1                                   Have you tried it?  ...                                     Have tried it?\n",
              "2                  @joerogan @Spotify Great interview!  ...                @joerogan @Spotify Great interview!\n",
              "3    @gtera27 Doge is underestimated @teslacn Congr...  ...  @gtera27 Doge underestimated @teslacn Congratu...\n",
              "4                   Now on to the next for even more!!  ...                               Now next even more!!\n",
              "..                                                 ...  ...                                                ...\n",
              "919  @kenyanwalstreet Not actually a payout, just a...  ...  @kenyanwalstreet Not actually payout, vesting ...\n",
              "920  It may never pay out, as the stock cant b\n",
              " ht...  ...  It may never pay out, stock cant b https://t....\n",
              "921                                    Details Aug 28.  ...                                    Details Aug 28.\n",
              "922  AI symbiosis while u wait @vistacruiser7 @flcn...  ...  AI symbiosis u wait @vistacruiser7 @flcnhvy Th...\n",
              "923  @TeslaGong @PPathole Samwise Gamgee @PPathole ...  ...  @TeslaGong @PPathole Samwise Gamgee @PPathole ...\n",
              "\n",
              "[924 rows x 3 columns]"
            ]
          },
          "metadata": {},
          "execution_count": 32
        }
      ]
    },
    {
      "cell_type": "code",
      "metadata": {
        "id": "6-hMQcguGjvC"
      },
      "source": [
        "sent_df=sent_df.drop('sentence',axis=1)"
      ],
      "execution_count": 33,
      "outputs": []
    },
    {
      "cell_type": "code",
      "metadata": {
        "id": "aeu0DNf_Gjxi"
      },
      "source": [
        "sent_df=sent_df.drop('sentence1',axis=1)"
      ],
      "execution_count": 34,
      "outputs": []
    },
    {
      "cell_type": "code",
      "metadata": {
        "colab": {
          "base_uri": "https://localhost:8080/",
          "height": 417
        },
        "id": "0M_n2c1dGjz_",
        "outputId": "21402637-1503-4691-ffb2-147306b525f8"
      },
      "source": [
        "sent_df"
      ],
      "execution_count": 35,
      "outputs": [
        {
          "output_type": "execute_result",
          "data": {
            "text/html": [
              "<div>\n",
              "<style scoped>\n",
              "    .dataframe tbody tr th:only-of-type {\n",
              "        vertical-align: middle;\n",
              "    }\n",
              "\n",
              "    .dataframe tbody tr th {\n",
              "        vertical-align: top;\n",
              "    }\n",
              "\n",
              "    .dataframe thead th {\n",
              "        text-align: right;\n",
              "    }\n",
              "</style>\n",
              "<table border=\"1\" class=\"dataframe\">\n",
              "  <thead>\n",
              "    <tr style=\"text-align: right;\">\n",
              "      <th></th>\n",
              "      <th>clean</th>\n",
              "    </tr>\n",
              "  </thead>\n",
              "  <tbody>\n",
              "    <tr>\n",
              "      <th>0</th>\n",
              "      <td>@kunalb11 Im alien @ID_AA_Carmack Ray tracing...</td>\n",
              "    </tr>\n",
              "    <tr>\n",
              "      <th>1</th>\n",
              "      <td>Have tried it?</td>\n",
              "    </tr>\n",
              "    <tr>\n",
              "      <th>2</th>\n",
              "      <td>@joerogan @Spotify Great interview!</td>\n",
              "    </tr>\n",
              "    <tr>\n",
              "      <th>3</th>\n",
              "      <td>@gtera27 Doge underestimated @teslacn Congratu...</td>\n",
              "    </tr>\n",
              "    <tr>\n",
              "      <th>4</th>\n",
              "      <td>Now next even more!!</td>\n",
              "    </tr>\n",
              "    <tr>\n",
              "      <th>...</th>\n",
              "      <td>...</td>\n",
              "    </tr>\n",
              "    <tr>\n",
              "      <th>919</th>\n",
              "      <td>@kenyanwalstreet Not actually payout, vesting ...</td>\n",
              "    </tr>\n",
              "    <tr>\n",
              "      <th>920</th>\n",
              "      <td>It may never pay out, stock cant b https://t....</td>\n",
              "    </tr>\n",
              "    <tr>\n",
              "      <th>921</th>\n",
              "      <td>Details Aug 28.</td>\n",
              "    </tr>\n",
              "    <tr>\n",
              "      <th>922</th>\n",
              "      <td>AI symbiosis u wait @vistacruiser7 @flcnhvy Th...</td>\n",
              "    </tr>\n",
              "    <tr>\n",
              "      <th>923</th>\n",
              "      <td>@TeslaGong @PPathole Samwise Gamgee @PPathole ...</td>\n",
              "    </tr>\n",
              "  </tbody>\n",
              "</table>\n",
              "<p>924 rows × 1 columns</p>\n",
              "</div>"
            ],
            "text/plain": [
              "                                                 clean\n",
              "0    @kunalb11 Im alien @ID_AA_Carmack Ray tracing...\n",
              "1                                       Have tried it?\n",
              "2                  @joerogan @Spotify Great interview!\n",
              "3    @gtera27 Doge underestimated @teslacn Congratu...\n",
              "4                                 Now next even more!!\n",
              "..                                                 ...\n",
              "919  @kenyanwalstreet Not actually payout, vesting ...\n",
              "920  It may never pay out, stock cant b https://t....\n",
              "921                                    Details Aug 28.\n",
              "922  AI symbiosis u wait @vistacruiser7 @flcnhvy Th...\n",
              "923  @TeslaGong @PPathole Samwise Gamgee @PPathole ...\n",
              "\n",
              "[924 rows x 1 columns]"
            ]
          },
          "metadata": {},
          "execution_count": 35
        }
      ]
    },
    {
      "cell_type": "code",
      "metadata": {
        "id": "2etGScV8HI4Y"
      },
      "source": [
        "from itertools import islice\n",
        "def take(n,iterable):\n",
        "    \"Return first n items of the iterable as list\"\n",
        "    return list(islice(iterable,n))"
      ],
      "execution_count": 36,
      "outputs": []
    },
    {
      "cell_type": "code",
      "metadata": {
        "colab": {
          "base_uri": "https://localhost:8080/"
        },
        "id": "-UVLtbItHI-d",
        "outputId": "f9181536-6120-4524-8c21-ecbb78c55381"
      },
      "source": [
        "#coverting to dic format and for 20 words\n",
        "affinity_scores = afinn.set_index('word')['value'].to_dict()\n",
        "take(20,affinity_scores.items())"
      ],
      "execution_count": 37,
      "outputs": [
        {
          "output_type": "execute_result",
          "data": {
            "text/plain": [
              "[('abandon', -2),\n",
              " ('abandoned', -2),\n",
              " ('abandons', -2),\n",
              " ('abducted', -2),\n",
              " ('abduction', -2),\n",
              " ('abductions', -2),\n",
              " ('abhor', -3),\n",
              " ('abhorred', -3),\n",
              " ('abhorrent', -3),\n",
              " ('abhors', -3),\n",
              " ('abilities', 2),\n",
              " ('ability', 2),\n",
              " ('aboard', 1),\n",
              " ('absentee', -1),\n",
              " ('absentees', -1),\n",
              " ('absolve', 2),\n",
              " ('absolved', 2),\n",
              " ('absolves', 2),\n",
              " ('absolving', 2),\n",
              " ('absorbed', 1)]"
            ]
          },
          "metadata": {},
          "execution_count": 37
        }
      ]
    },
    {
      "cell_type": "code",
      "metadata": {
        "id": "KRk7USkZHJA4"
      },
      "source": [
        "nlp = spacy.load(\"en_core_web_sm\")\n",
        "sentiment_lexicon = affinity_scores\n",
        "\n",
        "def calculate_sentiment(Text: str = None):\n",
        "    sent_score = 0\n",
        "    if Text:\n",
        "        clean = nlp(Text)\n",
        "        for word in clean:\n",
        "            sent_score += sentiment_lexicon.get(word.lemma_, 0)\n",
        "    return sent_score"
      ],
      "execution_count": 38,
      "outputs": []
    },
    {
      "cell_type": "code",
      "metadata": {
        "id": "_9kVoK5zHJC5"
      },
      "source": [
        "#calulating the sentiment value for each sentence\n",
        "sent_df['sentiment_value'] = sent_df['clean'].apply(calculate_sentiment)"
      ],
      "execution_count": 39,
      "outputs": []
    },
    {
      "cell_type": "code",
      "metadata": {
        "colab": {
          "base_uri": "https://localhost:8080/"
        },
        "id": "6HbVRIh7HJFm",
        "outputId": "d00fafcf-448c-4c94-e04f-4479b25f399d"
      },
      "source": [
        "sent_df['sentiment_value']"
      ],
      "execution_count": 40,
      "outputs": [
        {
          "output_type": "execute_result",
          "data": {
            "text/plain": [
              "0      0\n",
              "1      0\n",
              "2      3\n",
              "3      3\n",
              "4      0\n",
              "      ..\n",
              "919    0\n",
              "920   -4\n",
              "921    0\n",
              "922   -2\n",
              "923   -3\n",
              "Name: sentiment_value, Length: 924, dtype: int64"
            ]
          },
          "metadata": {},
          "execution_count": 40
        }
      ]
    },
    {
      "cell_type": "code",
      "metadata": {
        "colab": {
          "base_uri": "https://localhost:8080/"
        },
        "id": "TJ3dV3kyHahJ",
        "outputId": "900b206e-8f48-452f-ea6d-6b6f1c4235e7"
      },
      "source": [
        "#word count for \"clean\"column\n",
        "sent_df['word_count'] = sent_df['clean'].str.split().apply(len)\n",
        "sent_df['word_count'].head(10)"
      ],
      "execution_count": 41,
      "outputs": [
        {
          "output_type": "execute_result",
          "data": {
            "text/plain": [
              "0     9\n",
              "1     3\n",
              "2     4\n",
              "3    11\n",
              "4     4\n",
              "5     4\n",
              "6     9\n",
              "7    10\n",
              "8     6\n",
              "9    74\n",
              "Name: word_count, dtype: int64"
            ]
          },
          "metadata": {},
          "execution_count": 41
        }
      ]
    },
    {
      "cell_type": "code",
      "metadata": {
        "colab": {
          "base_uri": "https://localhost:8080/",
          "height": 357
        },
        "id": "sKVwhAk4HdE0",
        "outputId": "83af004d-33ea-4065-a5e1-e7ddc895d52a"
      },
      "source": [
        "#sort based on sentiment value\n",
        "sent_df.sort_values(by='sentiment_value').head(10)"
      ],
      "execution_count": 42,
      "outputs": [
        {
          "output_type": "execute_result",
          "data": {
            "text/html": [
              "<div>\n",
              "<style scoped>\n",
              "    .dataframe tbody tr th:only-of-type {\n",
              "        vertical-align: middle;\n",
              "    }\n",
              "\n",
              "    .dataframe tbody tr th {\n",
              "        vertical-align: top;\n",
              "    }\n",
              "\n",
              "    .dataframe thead th {\n",
              "        text-align: right;\n",
              "    }\n",
              "</style>\n",
              "<table border=\"1\" class=\"dataframe\">\n",
              "  <thead>\n",
              "    <tr style=\"text-align: right;\">\n",
              "      <th></th>\n",
              "      <th>clean</th>\n",
              "      <th>sentiment_value</th>\n",
              "      <th>word_count</th>\n",
              "    </tr>\n",
              "  </thead>\n",
              "  <tbody>\n",
              "    <tr>\n",
              "      <th>647</th>\n",
              "      <td>Very ba https://t.co/tJsh1Exz1Q @justpaulinelo...</td>\n",
              "      <td>-8</td>\n",
              "      <td>41</td>\n",
              "    </tr>\n",
              "    <tr>\n",
              "      <th>64</th>\n",
              "      <td>Also, road hell mostly paved bad intentions.</td>\n",
              "      <td>-7</td>\n",
              "      <td>7</td>\n",
              "    </tr>\n",
              "    <tr>\n",
              "      <th>920</th>\n",
              "      <td>It may never pay out, stock cant b https://t....</td>\n",
              "      <td>-4</td>\n",
              "      <td>21</td>\n",
              "    </tr>\n",
              "    <tr>\n",
              "      <th>680</th>\n",
              "      <td>Occasional flights land ok, frequent (daily) f...</td>\n",
              "      <td>-4</td>\n",
              "      <td>26</td>\n",
              "    </tr>\n",
              "    <tr>\n",
              "      <th>611</th>\n",
              "      <td>Then static fire, checkouts, static fire, fly ...</td>\n",
              "      <td>-4</td>\n",
              "      <td>11</td>\n",
              "    </tr>\n",
              "    <tr>\n",
              "      <th>923</th>\n",
              "      <td>@TeslaGong @PPathole Samwise Gamgee @PPathole ...</td>\n",
              "      <td>-3</td>\n",
              "      <td>13</td>\n",
              "    </tr>\n",
              "    <tr>\n",
              "      <th>630</th>\n",
              "      <td>You modern day moron.</td>\n",
              "      <td>-3</td>\n",
              "      <td>4</td>\n",
              "    </tr>\n",
              "    <tr>\n",
              "      <th>380</th>\n",
              "      <td>No problem theres way get current design Cybe...</td>\n",
              "      <td>-3</td>\n",
              "      <td>10</td>\n",
              "    </tr>\n",
              "    <tr>\n",
              "      <th>296</th>\n",
              "      <td>No symptoms past days, apart fatigue.</td>\n",
              "      <td>-3</td>\n",
              "      <td>6</td>\n",
              "    </tr>\n",
              "    <tr>\n",
              "      <th>816</th>\n",
              "      <td>Connector damaged storm, fixed now.</td>\n",
              "      <td>-3</td>\n",
              "      <td>5</td>\n",
              "    </tr>\n",
              "  </tbody>\n",
              "</table>\n",
              "</div>"
            ],
            "text/plain": [
              "                                                 clean  ...  word_count\n",
              "647  Very ba https://t.co/tJsh1Exz1Q @justpaulinelo...  ...          41\n",
              "64        Also, road hell mostly paved bad intentions.  ...           7\n",
              "920  It may never pay out, stock cant b https://t....  ...          21\n",
              "680  Occasional flights land ok, frequent (daily) f...  ...          26\n",
              "611  Then static fire, checkouts, static fire, fly ...  ...          11\n",
              "923  @TeslaGong @PPathole Samwise Gamgee @PPathole ...  ...          13\n",
              "630                              You modern day moron.  ...           4\n",
              "380  No problem theres way get current design Cybe...  ...          10\n",
              "296              No symptoms past days, apart fatigue.  ...           6\n",
              "816                Connector damaged storm, fixed now.  ...           5\n",
              "\n",
              "[10 rows x 3 columns]"
            ]
          },
          "metadata": {},
          "execution_count": 42
        }
      ]
    },
    {
      "cell_type": "code",
      "metadata": {
        "colab": {
          "base_uri": "https://localhost:8080/"
        },
        "id": "LfYPW39SHdGp",
        "outputId": "84137147-1202-4c2d-a9d0-3658c3dca2a5"
      },
      "source": [
        "sent_df['sentiment_value'].describe() #max sentiment value=16 and min sentiment value=-8"
      ],
      "execution_count": 43,
      "outputs": [
        {
          "output_type": "execute_result",
          "data": {
            "text/plain": [
              "count    924.000000\n",
              "mean       1.532468\n",
              "std        2.761762\n",
              "min       -8.000000\n",
              "25%        0.000000\n",
              "50%        0.000000\n",
              "75%        3.000000\n",
              "max       16.000000\n",
              "Name: sentiment_value, dtype: float64"
            ]
          },
          "metadata": {},
          "execution_count": 43
        }
      ]
    },
    {
      "cell_type": "code",
      "metadata": {
        "colab": {
          "base_uri": "https://localhost:8080/",
          "height": 417
        },
        "id": "oklfE43eHdKt",
        "outputId": "03dcbe17-d271-4847-a6dd-a7e0ba63d276"
      },
      "source": [
        "#sentiment value less than or equal to 0\n",
        "sent_df[sent_df['sentiment_value']<=0]"
      ],
      "execution_count": 44,
      "outputs": [
        {
          "output_type": "execute_result",
          "data": {
            "text/html": [
              "<div>\n",
              "<style scoped>\n",
              "    .dataframe tbody tr th:only-of-type {\n",
              "        vertical-align: middle;\n",
              "    }\n",
              "\n",
              "    .dataframe tbody tr th {\n",
              "        vertical-align: top;\n",
              "    }\n",
              "\n",
              "    .dataframe thead th {\n",
              "        text-align: right;\n",
              "    }\n",
              "</style>\n",
              "<table border=\"1\" class=\"dataframe\">\n",
              "  <thead>\n",
              "    <tr style=\"text-align: right;\">\n",
              "      <th></th>\n",
              "      <th>clean</th>\n",
              "      <th>sentiment_value</th>\n",
              "      <th>word_count</th>\n",
              "    </tr>\n",
              "  </thead>\n",
              "  <tbody>\n",
              "    <tr>\n",
              "      <th>0</th>\n",
              "      <td>@kunalb11 Im alien @ID_AA_Carmack Ray tracing...</td>\n",
              "      <td>0</td>\n",
              "      <td>9</td>\n",
              "    </tr>\n",
              "    <tr>\n",
              "      <th>1</th>\n",
              "      <td>Have tried it?</td>\n",
              "      <td>0</td>\n",
              "      <td>3</td>\n",
              "    </tr>\n",
              "    <tr>\n",
              "      <th>4</th>\n",
              "      <td>Now next even more!!</td>\n",
              "      <td>0</td>\n",
              "      <td>4</td>\n",
              "    </tr>\n",
              "    <tr>\n",
              "      <th>5</th>\n",
              "      <td>Happy New Year Ox!</td>\n",
              "      <td>0</td>\n",
              "      <td>4</td>\n",
              "    </tr>\n",
              "    <tr>\n",
              "      <th>6</th>\n",
              "      <td>https://t.co/9WFKMYu2oj Frodo underdoge, All t...</td>\n",
              "      <td>-2</td>\n",
              "      <td>9</td>\n",
              "    </tr>\n",
              "    <tr>\n",
              "      <th>...</th>\n",
              "      <td>...</td>\n",
              "      <td>...</td>\n",
              "      <td>...</td>\n",
              "    </tr>\n",
              "    <tr>\n",
              "      <th>919</th>\n",
              "      <td>@kenyanwalstreet Not actually payout, vesting ...</td>\n",
              "      <td>0</td>\n",
              "      <td>7</td>\n",
              "    </tr>\n",
              "    <tr>\n",
              "      <th>920</th>\n",
              "      <td>It may never pay out, stock cant b https://t....</td>\n",
              "      <td>-4</td>\n",
              "      <td>21</td>\n",
              "    </tr>\n",
              "    <tr>\n",
              "      <th>921</th>\n",
              "      <td>Details Aug 28.</td>\n",
              "      <td>0</td>\n",
              "      <td>3</td>\n",
              "    </tr>\n",
              "    <tr>\n",
              "      <th>922</th>\n",
              "      <td>AI symbiosis u wait @vistacruiser7 @flcnhvy Th...</td>\n",
              "      <td>-2</td>\n",
              "      <td>29</td>\n",
              "    </tr>\n",
              "    <tr>\n",
              "      <th>923</th>\n",
              "      <td>@TeslaGong @PPathole Samwise Gamgee @PPathole ...</td>\n",
              "      <td>-3</td>\n",
              "      <td>13</td>\n",
              "    </tr>\n",
              "  </tbody>\n",
              "</table>\n",
              "<p>466 rows × 3 columns</p>\n",
              "</div>"
            ],
            "text/plain": [
              "                                                 clean  ...  word_count\n",
              "0    @kunalb11 Im alien @ID_AA_Carmack Ray tracing...  ...           9\n",
              "1                                       Have tried it?  ...           3\n",
              "4                                 Now next even more!!  ...           4\n",
              "5                                   Happy New Year Ox!  ...           4\n",
              "6    https://t.co/9WFKMYu2oj Frodo underdoge, All t...  ...           9\n",
              "..                                                 ...  ...         ...\n",
              "919  @kenyanwalstreet Not actually payout, vesting ...  ...           7\n",
              "920  It may never pay out, stock cant b https://t....  ...          21\n",
              "921                                    Details Aug 28.  ...           3\n",
              "922  AI symbiosis u wait @vistacruiser7 @flcnhvy Th...  ...          29\n",
              "923  @TeslaGong @PPathole Samwise Gamgee @PPathole ...  ...          13\n",
              "\n",
              "[466 rows x 3 columns]"
            ]
          },
          "metadata": {},
          "execution_count": 44
        }
      ]
    },
    {
      "cell_type": "code",
      "metadata": {
        "colab": {
          "base_uri": "https://localhost:8080/",
          "height": 417
        },
        "id": "9wLezHWWHajH",
        "outputId": "b4389ade-ab6b-4b08-e529-a8923b92a0e3"
      },
      "source": [
        "#sentiment value greater than 0\n",
        "sent_df[sent_df['sentiment_value']>0]"
      ],
      "execution_count": 45,
      "outputs": [
        {
          "output_type": "execute_result",
          "data": {
            "text/html": [
              "<div>\n",
              "<style scoped>\n",
              "    .dataframe tbody tr th:only-of-type {\n",
              "        vertical-align: middle;\n",
              "    }\n",
              "\n",
              "    .dataframe tbody tr th {\n",
              "        vertical-align: top;\n",
              "    }\n",
              "\n",
              "    .dataframe thead th {\n",
              "        text-align: right;\n",
              "    }\n",
              "</style>\n",
              "<table border=\"1\" class=\"dataframe\">\n",
              "  <thead>\n",
              "    <tr style=\"text-align: right;\">\n",
              "      <th></th>\n",
              "      <th>clean</th>\n",
              "      <th>sentiment_value</th>\n",
              "      <th>word_count</th>\n",
              "    </tr>\n",
              "  </thead>\n",
              "  <tbody>\n",
              "    <tr>\n",
              "      <th>2</th>\n",
              "      <td>@joerogan @Spotify Great interview!</td>\n",
              "      <td>3</td>\n",
              "      <td>4</td>\n",
              "    </tr>\n",
              "    <tr>\n",
              "      <th>3</th>\n",
              "      <td>@gtera27 Doge underestimated @teslacn Congratu...</td>\n",
              "      <td>3</td>\n",
              "      <td>11</td>\n",
              "    </tr>\n",
              "    <tr>\n",
              "      <th>7</th>\n",
              "      <td>https://t.co/zGxJFDzzrM @OwenSparks_ @flcnhvy ...</td>\n",
              "      <td>2</td>\n",
              "      <td>10</td>\n",
              "    </tr>\n",
              "    <tr>\n",
              "      <th>9</th>\n",
              "      <td>The entertaining outcome likely @GiveDirectly ...</td>\n",
              "      <td>3</td>\n",
              "      <td>74</td>\n",
              "    </tr>\n",
              "    <tr>\n",
              "      <th>17</th>\n",
              "      <td>Back work I go @CapybaraSurfer @MattWallace888...</td>\n",
              "      <td>4</td>\n",
              "      <td>28</td>\n",
              "    </tr>\n",
              "    <tr>\n",
              "      <th>...</th>\n",
              "      <td>...</td>\n",
              "      <td>...</td>\n",
              "      <td>...</td>\n",
              "    </tr>\n",
              "    <tr>\n",
              "      <th>911</th>\n",
              "      <td>He one best.</td>\n",
              "      <td>3</td>\n",
              "      <td>3</td>\n",
              "    </tr>\n",
              "    <tr>\n",
              "      <th>913</th>\n",
              "      <td>@Ali_Afshari In general, need improve podcasts...</td>\n",
              "      <td>2</td>\n",
              "      <td>72</td>\n",
              "    </tr>\n",
              "    <tr>\n",
              "      <th>915</th>\n",
              "      <td>@burakaydik True Wow, IHOP &amp;amp; GitHub close ...</td>\n",
              "      <td>7</td>\n",
              "      <td>12</td>\n",
              "    </tr>\n",
              "    <tr>\n",
              "      <th>917</th>\n",
              "      <td>This great &amp;amp; terrifying.</td>\n",
              "      <td>3</td>\n",
              "      <td>4</td>\n",
              "    </tr>\n",
              "    <tr>\n",
              "      <th>918</th>\n",
              "      <td>Everything weve ever sensed thought https://t...</td>\n",
              "      <td>2</td>\n",
              "      <td>12</td>\n",
              "    </tr>\n",
              "  </tbody>\n",
              "</table>\n",
              "<p>458 rows × 3 columns</p>\n",
              "</div>"
            ],
            "text/plain": [
              "                                                 clean  ...  word_count\n",
              "2                  @joerogan @Spotify Great interview!  ...           4\n",
              "3    @gtera27 Doge underestimated @teslacn Congratu...  ...          11\n",
              "7    https://t.co/zGxJFDzzrM @OwenSparks_ @flcnhvy ...  ...          10\n",
              "9    The entertaining outcome likely @GiveDirectly ...  ...          74\n",
              "17   Back work I go @CapybaraSurfer @MattWallace888...  ...          28\n",
              "..                                                 ...  ...         ...\n",
              "911                                       He one best.  ...           3\n",
              "913  @Ali_Afshari In general, need improve podcasts...  ...          72\n",
              "915  @burakaydik True Wow, IHOP &amp; GitHub close ...  ...          12\n",
              "917                       This great &amp; terrifying.  ...           4\n",
              "918  Everything weve ever sensed thought https://t...  ...          12\n",
              "\n",
              "[458 rows x 3 columns]"
            ]
          },
          "metadata": {},
          "execution_count": 45
        }
      ]
    },
    {
      "cell_type": "code",
      "metadata": {
        "id": "74yUgH6qHalN"
      },
      "source": [
        "sent_df['index']=range(0,len(sent_df))"
      ],
      "execution_count": 46,
      "outputs": []
    },
    {
      "cell_type": "code",
      "metadata": {
        "colab": {
          "base_uri": "https://localhost:8080/",
          "height": 417
        },
        "id": "gTRH5vC2HJI3",
        "outputId": "e4875da7-fa58-4d81-d7f5-96b81904416c"
      },
      "source": [
        "sent_df"
      ],
      "execution_count": 47,
      "outputs": [
        {
          "output_type": "execute_result",
          "data": {
            "text/html": [
              "<div>\n",
              "<style scoped>\n",
              "    .dataframe tbody tr th:only-of-type {\n",
              "        vertical-align: middle;\n",
              "    }\n",
              "\n",
              "    .dataframe tbody tr th {\n",
              "        vertical-align: top;\n",
              "    }\n",
              "\n",
              "    .dataframe thead th {\n",
              "        text-align: right;\n",
              "    }\n",
              "</style>\n",
              "<table border=\"1\" class=\"dataframe\">\n",
              "  <thead>\n",
              "    <tr style=\"text-align: right;\">\n",
              "      <th></th>\n",
              "      <th>clean</th>\n",
              "      <th>sentiment_value</th>\n",
              "      <th>word_count</th>\n",
              "      <th>index</th>\n",
              "    </tr>\n",
              "  </thead>\n",
              "  <tbody>\n",
              "    <tr>\n",
              "      <th>0</th>\n",
              "      <td>@kunalb11 Im alien @ID_AA_Carmack Ray tracing...</td>\n",
              "      <td>0</td>\n",
              "      <td>9</td>\n",
              "      <td>0</td>\n",
              "    </tr>\n",
              "    <tr>\n",
              "      <th>1</th>\n",
              "      <td>Have tried it?</td>\n",
              "      <td>0</td>\n",
              "      <td>3</td>\n",
              "      <td>1</td>\n",
              "    </tr>\n",
              "    <tr>\n",
              "      <th>2</th>\n",
              "      <td>@joerogan @Spotify Great interview!</td>\n",
              "      <td>3</td>\n",
              "      <td>4</td>\n",
              "      <td>2</td>\n",
              "    </tr>\n",
              "    <tr>\n",
              "      <th>3</th>\n",
              "      <td>@gtera27 Doge underestimated @teslacn Congratu...</td>\n",
              "      <td>3</td>\n",
              "      <td>11</td>\n",
              "      <td>3</td>\n",
              "    </tr>\n",
              "    <tr>\n",
              "      <th>4</th>\n",
              "      <td>Now next even more!!</td>\n",
              "      <td>0</td>\n",
              "      <td>4</td>\n",
              "      <td>4</td>\n",
              "    </tr>\n",
              "    <tr>\n",
              "      <th>...</th>\n",
              "      <td>...</td>\n",
              "      <td>...</td>\n",
              "      <td>...</td>\n",
              "      <td>...</td>\n",
              "    </tr>\n",
              "    <tr>\n",
              "      <th>919</th>\n",
              "      <td>@kenyanwalstreet Not actually payout, vesting ...</td>\n",
              "      <td>0</td>\n",
              "      <td>7</td>\n",
              "      <td>919</td>\n",
              "    </tr>\n",
              "    <tr>\n",
              "      <th>920</th>\n",
              "      <td>It may never pay out, stock cant b https://t....</td>\n",
              "      <td>-4</td>\n",
              "      <td>21</td>\n",
              "      <td>920</td>\n",
              "    </tr>\n",
              "    <tr>\n",
              "      <th>921</th>\n",
              "      <td>Details Aug 28.</td>\n",
              "      <td>0</td>\n",
              "      <td>3</td>\n",
              "      <td>921</td>\n",
              "    </tr>\n",
              "    <tr>\n",
              "      <th>922</th>\n",
              "      <td>AI symbiosis u wait @vistacruiser7 @flcnhvy Th...</td>\n",
              "      <td>-2</td>\n",
              "      <td>29</td>\n",
              "      <td>922</td>\n",
              "    </tr>\n",
              "    <tr>\n",
              "      <th>923</th>\n",
              "      <td>@TeslaGong @PPathole Samwise Gamgee @PPathole ...</td>\n",
              "      <td>-3</td>\n",
              "      <td>13</td>\n",
              "      <td>923</td>\n",
              "    </tr>\n",
              "  </tbody>\n",
              "</table>\n",
              "<p>924 rows × 4 columns</p>\n",
              "</div>"
            ],
            "text/plain": [
              "                                                 clean  ...  index\n",
              "0    @kunalb11 Im alien @ID_AA_Carmack Ray tracing...  ...      0\n",
              "1                                       Have tried it?  ...      1\n",
              "2                  @joerogan @Spotify Great interview!  ...      2\n",
              "3    @gtera27 Doge underestimated @teslacn Congratu...  ...      3\n",
              "4                                 Now next even more!!  ...      4\n",
              "..                                                 ...  ...    ...\n",
              "919  @kenyanwalstreet Not actually payout, vesting ...  ...    919\n",
              "920  It may never pay out, stock cant b https://t....  ...    920\n",
              "921                                    Details Aug 28.  ...    921\n",
              "922  AI symbiosis u wait @vistacruiser7 @flcnhvy Th...  ...    922\n",
              "923  @TeslaGong @PPathole Samwise Gamgee @PPathole ...  ...    923\n",
              "\n",
              "[924 rows x 4 columns]"
            ]
          },
          "metadata": {},
          "execution_count": 47
        }
      ]
    },
    {
      "cell_type": "code",
      "metadata": {
        "colab": {
          "base_uri": "https://localhost:8080/",
          "height": 350
        },
        "id": "7W6d-xSqHrZt",
        "outputId": "4af60008-8459-4b48-8a85-a6d650336ee5"
      },
      "source": [
        "#densityplot based on sentiment value\n",
        "import seaborn as sns\n",
        "import matplotlib.pyplot as plt\n",
        "sns.distplot(sent_df['sentiment_value'])"
      ],
      "execution_count": 48,
      "outputs": [
        {
          "output_type": "stream",
          "name": "stderr",
          "text": [
            "/usr/local/lib/python3.7/dist-packages/seaborn/distributions.py:2619: FutureWarning: `distplot` is a deprecated function and will be removed in a future version. Please adapt your code to use either `displot` (a figure-level function with similar flexibility) or `histplot` (an axes-level function for histograms).\n",
            "  warnings.warn(msg, FutureWarning)\n"
          ]
        },
        {
          "output_type": "execute_result",
          "data": {
            "text/plain": [
              "<matplotlib.axes._subplots.AxesSubplot at 0x7f0067716890>"
            ]
          },
          "metadata": {},
          "execution_count": 48
        },
        {
          "output_type": "display_data",
          "data": {
            "image/png": "[encoded data removed]",
            "text/plain": [
              "<Figure size 432x288 with 1 Axes>"
            ]
          },
          "metadata": {
            "needs_background": "light"
          }
        }
      ]
    },
    {
      "cell_type": "code",
      "metadata": {
        "colab": {
          "base_uri": "https://localhost:8080/",
          "height": 623
        },
        "id": "p7XLiGjcHtyj",
        "outputId": "6de61c6c-e3bd-458a-db9c-bbbe48a5cef3"
      },
      "source": [
        "#lineplot based on sentiment value\n",
        "plt.figure(figsize=(15, 10))\n",
        "sns.lineplot(y='sentiment_value',x='index',data=sent_df)"
      ],
      "execution_count": 49,
      "outputs": [
        {
          "output_type": "execute_result",
          "data": {
            "text/plain": [
              "<matplotlib.axes._subplots.AxesSubplot at 0x7f0063b930d0>"
            ]
          },
          "metadata": {},
          "execution_count": 49
        },
        {
          "output_type": "display_data",
          "data": {
            "image/png": "[encoded data removed]",
            "text/plain": [
              "<Figure size 1080x720 with 1 Axes>"
            ]
          },
          "metadata": {
            "needs_background": "light"
          }
        }
      ]
    },
    {
      "cell_type": "code",
      "metadata": {
        "colab": {
          "base_uri": "https://localhost:8080/",
          "height": 531
        },
        "id": "2-JOy_T6HuE4",
        "outputId": "01b069f0-d529-4c23-f2b7-367d392146c5"
      },
      "source": [
        "#scatterplot between wordcount and sentiment value\n",
        "sent_df.plot.scatter(x='word_count', y='sentiment_value', figsize=(8,8), title='Sentence sentiment value to sentence word count')"
      ],
      "execution_count": 50,
      "outputs": [
        {
          "output_type": "execute_result",
          "data": {
            "text/plain": [
              "<matplotlib.axes._subplots.AxesSubplot at 0x7f0061e48f50>"
            ]
          },
          "metadata": {},
          "execution_count": 50
        },
        {
          "output_type": "display_data",
          "data": {
            "image/png": "[encoded data removed]",
            "text/plain": [
              "<Figure size 576x576 with 1 Axes>"
            ]
          },
          "metadata": {
            "needs_background": "light"
          }
        }
      ]
    },
    {
      "cell_type": "markdown",
      "metadata": {
        "id": "QDPM0vRFHzqx"
      },
      "source": [
        "**AFTER PERFORMING SENTIMENT ANALYSIS WE CAN CONCLUDE THAT MOST SENTENCES OF IT ARE NEUTRAL**"
      ]
    }
  ]
}
